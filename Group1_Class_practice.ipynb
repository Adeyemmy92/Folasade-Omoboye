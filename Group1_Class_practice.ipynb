{
  "nbformat": 4,
  "nbformat_minor": 0,
  "metadata": {
    "colab": {
      "provenance": [],
      "include_colab_link": true
    },
    "kernelspec": {
      "name": "python3",
      "display_name": "Python 3"
    },
    "language_info": {
      "name": "python"
    }
  },
  "cells": [
    {
      "cell_type": "markdown",
      "metadata": {
        "id": "view-in-github",
        "colab_type": "text"
      },
      "source": [
        "<a href=\"https://colab.research.google.com/github/omoboyefolasade25/Folasade-Omoboye/blob/main/Group1_Class_practice.ipynb\" target=\"_parent\"><img src=\"https://colab.research.google.com/assets/colab-badge.svg\" alt=\"Open In Colab\"/></a>"
      ]
    },
    {
      "cell_type": "markdown",
      "source": [
        "***Group 1*** </br>\n",
        "***Name of participant:***</br>\n",
        "\n",
        "1-Lynda lebdjiri\n",
        "2-Rukayat Adegboye\n",
        "3-Claudia Attah\n",
        "4-Juliet Nkemdy\n",
        "5-Aleksandra Bozic\n",
        "6-Folasade Omoboye\n",
        "7-Mercy Nduku\n",
        "8-Aleksandra Bozic\n",
        "9-Ganiyat Sanusi\n",
        "10-Titilayomi Otepola"
      ],
      "metadata": {
        "id": "XGlUJvhxxqS-"
      }
    },
    {
      "cell_type": "code",
      "source": [
        "#1) Write a Python program to get the largest number from a list\n",
        "\n",
        "lst=[22,100,35,1,-2,3,6,8,3,44]\n",
        "largest_number = max(lst)\n",
        "print(f\"the largest number is : {largest_number}\")"
      ],
      "metadata": {
        "id": "428DV29Bxm92",
        "colab": {
          "base_uri": "https://localhost:8080/"
        },
        "outputId": "a4f5f613-d4bf-450f-8960-13d227b61641"
      },
      "execution_count": null,
      "outputs": [
        {
          "output_type": "stream",
          "name": "stdout",
          "text": [
            "the largest number is : 100\n"
          ]
        }
      ]
    },
    {
      "cell_type": "code",
      "source": [
        "#2) Write a Python program to get the smallest number from a list\n",
        "lst=[22,100,35,1,-2,3,6,8,3,44]\n",
        "smallest_number = min(lst)\n",
        "print(f\"the smallest number is : {smallest_number}\")"
      ],
      "metadata": {
        "id": "4Xvw_YWOyW17",
        "colab": {
          "base_uri": "https://localhost:8080/"
        },
        "outputId": "36be69e0-932d-4622-db5b-d99a43b50981"
      },
      "execution_count": null,
      "outputs": [
        {
          "output_type": "stream",
          "name": "stdout",
          "text": [
            "the smallest number is : -2\n"
          ]
        }
      ]
    },
    {
      "cell_type": "code",
      "source": [
        "#3) Write a Python script to add a key to a dictionary\n",
        "My_dic = {\"Lynda\":25,\n",
        "        \"Ds_groupE\":105\n",
        "        }\n",
        "\n",
        "Stephy = {\"Phanie\":28}\n",
        "\n",
        "My_dic.update(Stephy)\n",
        "\n",
        "print(My_dic)"
      ],
      "metadata": {
        "id": "40-h-laeyW7-",
        "colab": {
          "base_uri": "https://localhost:8080/"
        },
        "outputId": "1e95dd2d-f891-4f49-a2e4-49de217d54ee"
      },
      "execution_count": null,
      "outputs": [
        {
          "output_type": "stream",
          "name": "stdout",
          "text": [
            "{'Lynda': 25, 'Ds_groupE': 105, 'Phanie': 28}\n"
          ]
        }
      ]
    },
    {
      "cell_type": "code",
      "source": [
        "#4) Write a Python script to merge two Python dictionaries\n",
        "My_dic1={\"Rukayat\":5,\n",
        "        \"Claudia\":9\n",
        "    }\n",
        "\n",
        "print(f\"My_dic1 : {My_dic1}\")\n",
        "\n",
        "My_dic2 = {\"Aleksandra\":10,\n",
        "        \"Mercy\":13\n",
        "    }\n",
        "\n",
        "print(f\"My_dic2 : {My_dic2}\")\n",
        "\n",
        "merged_dict = My_dic1.copy()\n",
        "\n",
        "merged_dict.update(My_dic2)\n",
        "\n",
        "print(f\"After merging the two dictionaries : {merged_dict}\")"
      ],
      "metadata": {
        "id": "86dti_EhyXAW",
        "colab": {
          "base_uri": "https://localhost:8080/"
        },
        "outputId": "802884e9-203e-4a65-a9b0-e9301a37f3dd"
      },
      "execution_count": null,
      "outputs": [
        {
          "output_type": "stream",
          "name": "stdout",
          "text": [
            "My_dic1 : {'Rukayat': 5, 'Claudia': 9}\n",
            "My_dic2 : {'Aleksandra': 10, 'Mercy': 13}\n",
            "After merging the two dictionaries : {'Rukayat': 5, 'Claudia': 9, 'Aleksandra': 10, 'Mercy': 13}\n"
          ]
        }
      ]
    },
    {
      "cell_type": "code",
      "source": [
        "#5) Write a Python program to remove a key from a dictionary\n",
        "My_dic={\"Rukayat\":5,\n",
        "        \"Claudia\":9,\n",
        "        \"Aleksandra\":10,\n",
        "        \"Mercy\":13,\n",
        "        \"Lynda\":25,\n",
        "        \"Juliet\":20\n",
        "    }\n",
        "\n",
        "print(My_dic)\n",
        "\n",
        "del My_dic[\"Mercy\"]\n",
        "\n",
        "print(My_dic)\n",
        "\n",
        "My_dic.pop(\"Lynda\")\n",
        "print(My_dic)"
      ],
      "metadata": {
        "id": "uL7V3Wf2yXDh",
        "colab": {
          "base_uri": "https://localhost:8080/"
        },
        "outputId": "51adde5a-f8b8-4ce4-fd45-5a2f40ce2bba"
      },
      "execution_count": null,
      "outputs": [
        {
          "output_type": "stream",
          "name": "stdout",
          "text": [
            "{'Rukayat': 5, 'Claudia': 9, 'Aleksandra': 10, 'Mercy': 13, 'Lynda': 25, 'Juliet': 20}\n",
            "{'Rukayat': 5, 'Claudia': 9, 'Aleksandra': 10, 'Lynda': 25, 'Juliet': 20}\n",
            "{'Rukayat': 5, 'Claudia': 9, 'Aleksandra': 10, 'Juliet': 20}\n"
          ]
        }
      ]
    },
    {
      "cell_type": "code",
      "source": [
        "#6) Write a Python program to convert a list to a tuple\n",
        "\n",
        "lst = [\"red\",\"green\",\"orange\",\"blue\",\"white\",\"grey\",\"purple\"]\n",
        "\n",
        "print(lst)\n",
        "\n",
        "My_tuple= tuple(lst)\n",
        "\n",
        "print(My_tuple)"
      ],
      "metadata": {
        "colab": {
          "base_uri": "https://localhost:8080/"
        },
        "id": "zAhF467B1R0J",
        "outputId": "f646935c-5159-4bc0-db3d-8922a113c6bb"
      },
      "execution_count": null,
      "outputs": [
        {
          "output_type": "stream",
          "name": "stdout",
          "text": [
            "['red', 'green', 'orange', 'blue', 'white', 'grey', 'purple']\n",
            "('red', 'green', 'orange', 'blue', 'white', 'grey', 'purple')\n"
          ]
        }
      ]
    }
  ]
}